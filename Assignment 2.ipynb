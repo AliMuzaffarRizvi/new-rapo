{
 "cells": [
  {
   "cell_type": "code",
   "execution_count": null,
   "id": "a5dd1ea3-802e-4ad0-a3e8-2ea030188238",
   "metadata": {},
   "outputs": [],
   "source": [
    "# Q#1"
   ]
  },
  {
   "cell_type": "code",
   "execution_count": null,
   "id": "010e8771-6f51-44c9-8f4a-fdb420f4689c",
   "metadata": {},
   "outputs": [],
   "source": [
    "\n",
    "age = int(input('please enter age'))\n",
    "\n",
    "if (age >= 0 and age <= 12):\n",
    "    print(\"child\")\n",
    "elif (age >= 13 and age <= 19):\n",
    "    print(\"teenager\")\n",
    "elif (age >= 20 and age <= 64):\n",
    "    print(\"Adult\")\n",
    "else:\n",
    "    print(\"senior\")"
   ]
  },
  {
   "cell_type": "code",
   "execution_count": null,
   "id": "59ad7bc6-14c3-4707-ab28-4965de5a1e87",
   "metadata": {},
   "outputs": [],
   "source": [
    "# Q#2"
   ]
  },
  {
   "cell_type": "code",
   "execution_count": null,
   "id": "c21f05bc-a5be-4e7b-a620-10e0da7cd7c1",
   "metadata": {},
   "outputs": [],
   "source": [
    "customer_status = input(\"customer_status (premium/regular):\")\n",
    "amount = int(input(\"enter amount: \")) \n",
    "\n",
    "if (amount >= 1000 and amount <= 1999) and (customer_status == \"premium\"):\n",
    "    print(\"eligible_for_discount\")\n",
    "elif (amount >= 2000) and (customer_status == \"regular\") :\n",
    "    print(\"eligible_for_discount\")\n",
    "else:\n",
    "    print(\"Not eligiable for discount\")"
   ]
  },
  {
   "cell_type": "code",
   "execution_count": null,
   "id": "2ff90a86-3974-45c6-b5b5-efbcd5186f8a",
   "metadata": {},
   "outputs": [],
   "source": [
    "# Q#3"
   ]
  },
  {
   "cell_type": "code",
   "execution_count": null,
   "id": "0936c3de-d869-4bcf-a7cb-f8b8842cae6e",
   "metadata": {},
   "outputs": [],
   "source": [
    "region = input(\"region (india/pakistan):\")\n",
    "age = int(input(\"enter age\"))\n",
    "\n",
    "if (region == \"pakistan\") and (age >= 18):\n",
    "    print(\"Eligible to vote\")\n",
    "elif (region == \"india\") and (age >= 16):\n",
    "    print(\"also eligible\")\n",
    "else:\n",
    "    print(\"Not eligible to vot\")"
   ]
  },
  {
   "cell_type": "code",
   "execution_count": null,
   "id": "9addcc08-000a-407c-ae82-07bee549bdcd",
   "metadata": {},
   "outputs": [],
   "source": [
    "# Q#4"
   ]
  },
  {
   "cell_type": "code",
   "execution_count": null,
   "id": "c5c4e621-df3b-409b-84fc-5cbd1eeeae77",
   "metadata": {},
   "outputs": [],
   "source": [
    "performance_rating = input(\"performance_rating (Excellent/Good/Satisfactory):\")\n",
    "years_of_service = int(input(\"years of service\"))\n",
    "\n",
    "if performance_rating == \"Excellent\" and years_of_service >= 5 or performance_rating == \"Good\" and years_of_service >= 10 or performance_rating == \"Satisfactory\" and years_of_service >= 15:\n",
    "    print(\"Eligible for bonus\")\n",
    "else:\n",
    "    print(\"Not Eligible for bonus\")"
   ]
  },
  {
   "cell_type": "code",
   "execution_count": null,
   "id": "202454b9-e450-4644-ac31-00208327094e",
   "metadata": {},
   "outputs": [],
   "source": [
    "# Q#5"
   ]
  },
  {
   "cell_type": "code",
   "execution_count": null,
   "id": "ca3599f5-f61c-4fe7-b0ab-d8aac5108dd0",
   "metadata": {},
   "outputs": [],
   "source": [
    "text = input(\"enter a text:\")\n",
    "change = input(text.replace(\" \",\"_\"))\n",
    "\n",
    "counts = input(change.count(\"_\"))\n",
    "position = input(change.find(\"_\"))\n",
    "\n",
    "print(\"changes:\",change)\n",
    "print(\"No of changes:\",counts)\n",
    "print(\"position of 1st underscore:\",position)"
   ]
  },
  {
   "cell_type": "code",
   "execution_count": null,
   "id": "441e3d9a-0e5b-4721-aa18-5ab8accecb69",
   "metadata": {},
   "outputs": [],
   "source": [
    "# Q#6"
   ]
  },
  {
   "cell_type": "code",
   "execution_count": null,
   "id": "433b69e9-e2f3-406f-8d2e-a806aa788fb0",
   "metadata": {},
   "outputs": [],
   "source": [
    "text = input(\"enter text here:\")\n",
    "\n",
    "answer1 = text[:-3]\n",
    "answer2 = text[1::2]\n",
    "answer3 = text[::-1]\n",
    "\n",
    "print(Answer1 (\"all except last 3 cherecters):\",answer1)\n",
    "      \n",
    "print(Answer2 (\"every second cherecter from index 1):\", answer2)\n",
    "print(Answer3 (\"revised cherecters):\", answer3)"
   ]
  },
  {
   "cell_type": "code",
   "execution_count": null,
   "id": "5a8badad-3823-405f-8f68-c58647aa2646",
   "metadata": {},
   "outputs": [],
   "source": [
    "# Q#7"
   ]
  },
  {
   "cell_type": "code",
   "execution_count": 1,
   "id": "bc3a620c-198e-4acf-b5c9-7c1f61450011",
   "metadata": {},
   "outputs": [
    {
     "name": "stdin",
     "output_type": "stream",
     "text": [
      "enter text here: Hello World.\n"
     ]
    },
    {
     "name": "stdout",
     "output_type": "stream",
     "text": [
      "World. Hello\n"
     ]
    }
   ],
   "source": [
    "sentanse = input(\"enter text here:\")\n",
    "reverse = sentanse.split()\n",
    "final = \" \".join(reverse[::-1])\n",
    "print(final)"
   ]
  },
  {
   "cell_type": "code",
   "execution_count": null,
   "id": "f4289529-301c-4930-996d-1bbfec90975f",
   "metadata": {},
   "outputs": [],
   "source": [
    "# Q#8"
   ]
  },
  {
   "cell_type": "code",
   "execution_count": 3,
   "id": "f1ad73ba-c93e-4080-90e0-a4b4d6011b6b",
   "metadata": {},
   "outputs": [
    {
     "name": "stdin",
     "output_type": "stream",
     "text": [
      "enter code here: PAK-45687-IND\n"
     ]
    },
    {
     "name": "stdout",
     "output_type": "stream",
     "text": [
      "45687\n"
     ]
    }
   ],
   "source": [
    "product_code = input(\"enter code here:\")\n",
    "split = product_code.split(\"-\")\n",
    "print(split[1])"
   ]
  },
  {
   "cell_type": "code",
   "execution_count": null,
   "id": "0e75dde9-4d71-474e-9cba-9e58b98f4e3a",
   "metadata": {},
   "outputs": [],
   "source": []
  }
 ],
 "metadata": {
  "kernelspec": {
   "display_name": "Python 3 (ipykernel)",
   "language": "python",
   "name": "python3"
  },
  "language_info": {
   "codemirror_mode": {
    "name": "ipython",
    "version": 3
   },
   "file_extension": ".py",
   "mimetype": "text/x-python",
   "name": "python",
   "nbconvert_exporter": "python",
   "pygments_lexer": "ipython3",
   "version": "3.12.7"
  }
 },
 "nbformat": 4,
 "nbformat_minor": 5
}

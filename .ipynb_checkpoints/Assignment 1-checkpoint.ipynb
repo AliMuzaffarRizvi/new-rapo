{
 "cells": [
  {
   "cell_type": "code",
   "execution_count": 1,
   "id": "7b3bbbc6-31db-4442-8e33-93c071c26521",
   "metadata": {},
   "outputs": [],
   "source": [
    "salaries = ['30k','50k','60k','75k','95k','45k','55k']"
   ]
  },
  {
   "cell_type": "code",
   "execution_count": 2,
   "id": "6c77ff21-6db7-4b5f-b241-a1c9cd92ea4b",
   "metadata": {},
   "outputs": [
    {
     "data": {
      "text/plain": [
       "['30k', '50k', '60k', '75k', '95k', '45k', '55k']"
      ]
     },
     "execution_count": 2,
     "metadata": {},
     "output_type": "execute_result"
    }
   ],
   "source": [
    "salaries"
   ]
  },
  {
   "cell_type": "code",
   "execution_count": 3,
   "id": "2986beb1-a4b9-4971-a5f6-33d3365ab8f1",
   "metadata": {},
   "outputs": [
    {
     "data": {
      "text/plain": [
       "7"
      ]
     },
     "execution_count": 3,
     "metadata": {},
     "output_type": "execute_result"
    }
   ],
   "source": [
    "len(salaries)"
   ]
  },
  {
   "cell_type": "markdown",
   "id": "815b8f78-c6f5-4dd1-8ad7-158f79e30c09",
   "metadata": {},
   "source": [
    "## Indexing"
   ]
  },
  {
   "cell_type": "code",
   "execution_count": 5,
   "id": "d99163cf-eddd-4667-8102-171866c051c9",
   "metadata": {},
   "outputs": [
    {
     "data": {
      "text/plain": [
       "['30k', '50k', '60k', '75k', '95k', '45k', '55k']"
      ]
     },
     "execution_count": 5,
     "metadata": {},
     "output_type": "execute_result"
    }
   ],
   "source": [
    "salaries"
   ]
  },
  {
   "cell_type": "code",
   "execution_count": 6,
   "id": "27f171ab-0f7d-45df-90c8-513f3970a513",
   "metadata": {},
   "outputs": [
    {
     "data": {
      "text/plain": [
       "'75k'"
      ]
     },
     "execution_count": 6,
     "metadata": {},
     "output_type": "execute_result"
    }
   ],
   "source": [
    "salaries[3]"
   ]
  },
  {
   "cell_type": "code",
   "execution_count": 9,
   "id": "b43574ae-64fa-4165-ad7e-440ea342117c",
   "metadata": {},
   "outputs": [
    {
     "data": {
      "text/plain": [
       "['30k']"
      ]
     },
     "execution_count": 9,
     "metadata": {},
     "output_type": "execute_result"
    }
   ],
   "source": [
    "salaries[:-6]"
   ]
  },
  {
   "cell_type": "code",
   "execution_count": 10,
   "id": "d1cf19b2-ae57-4e02-aa32-4cd6f100127b",
   "metadata": {},
   "outputs": [
    {
     "data": {
      "text/plain": [
       "['60k', '75k', '95k']"
      ]
     },
     "execution_count": 10,
     "metadata": {},
     "output_type": "execute_result"
    }
   ],
   "source": [
    "salaries[2:5]"
   ]
  },
  {
   "cell_type": "code",
   "execution_count": 11,
   "id": "59bf8aab-bb4f-48fe-8662-f9f9f57b098f",
   "metadata": {},
   "outputs": [],
   "source": [
    "salaries.append('100k')"
   ]
  },
  {
   "cell_type": "code",
   "execution_count": 12,
   "id": "697f9065-4f2e-430e-a96e-5913c5aa39d5",
   "metadata": {},
   "outputs": [
    {
     "data": {
      "text/plain": [
       "['30k', '50k', '60k', '75k', '95k', '45k', '55k', '100k']"
      ]
     },
     "execution_count": 12,
     "metadata": {},
     "output_type": "execute_result"
    }
   ],
   "source": [
    "salaries"
   ]
  },
  {
   "cell_type": "code",
   "execution_count": 14,
   "id": "9c52050e-fae2-4c9d-8dea-489e2facfd6b",
   "metadata": {},
   "outputs": [],
   "source": [
    "salaries = salaries + ['120k']"
   ]
  },
  {
   "cell_type": "code",
   "execution_count": 15,
   "id": "dd4dae4e-3831-470c-b792-6697900285a1",
   "metadata": {},
   "outputs": [
    {
     "data": {
      "text/plain": [
       "['30k', '50k', '60k', '75k', '95k', '45k', '55k', '100k', '120k']"
      ]
     },
     "execution_count": 15,
     "metadata": {},
     "output_type": "execute_result"
    }
   ],
   "source": [
    "salaries"
   ]
  },
  {
   "cell_type": "code",
   "execution_count": 18,
   "id": "c2b29724-7d57-4320-873c-0e0c06a2bc4a",
   "metadata": {},
   "outputs": [],
   "source": [
    "salaries[3] = '55k'"
   ]
  },
  {
   "cell_type": "code",
   "execution_count": 19,
   "id": "c5b1c574-4d63-47fe-a466-78d5bca9784e",
   "metadata": {},
   "outputs": [
    {
     "name": "stdout",
     "output_type": "stream",
     "text": [
      "['30k', '50k', '60k', '55k', '95k', '45k', '55k', '100k', '120k']\n"
     ]
    }
   ],
   "source": [
    "print(salaries)"
   ]
  },
  {
   "cell_type": "code",
   "execution_count": 23,
   "id": "119ed201-1744-4542-bd11-91cd33737fbd",
   "metadata": {},
   "outputs": [
    {
     "data": {
      "text/plain": [
       "2"
      ]
     },
     "execution_count": 23,
     "metadata": {},
     "output_type": "execute_result"
    }
   ],
   "source": [
    "salaries.count('55k')"
   ]
  },
  {
   "cell_type": "code",
   "execution_count": 41,
   "id": "2dcc9305-5523-4691-b414-3bc578366426",
   "metadata": {},
   "outputs": [
    {
     "data": {
      "text/plain": [
       "['30k', '35k', '50k', '60k', '55k', '95k', '45k', '55k', '100k', '120k']"
      ]
     },
     "execution_count": 41,
     "metadata": {},
     "output_type": "execute_result"
    }
   ],
   "source": [
    "salaries"
   ]
  },
  {
   "cell_type": "code",
   "execution_count": 43,
   "id": "19408433-1879-46c6-bc7f-09c1a5b7ed10",
   "metadata": {},
   "outputs": [],
   "source": [
    "salaries.reverse()"
   ]
  },
  {
   "cell_type": "code",
   "execution_count": 44,
   "id": "0ce68164-60c6-464d-bdbe-dea8fa032359",
   "metadata": {},
   "outputs": [
    {
     "data": {
      "text/plain": [
       "['120k', '100k', '55k', '45k', '95k', '55k', '60k', '50k', '35k', '30k']"
      ]
     },
     "execution_count": 44,
     "metadata": {},
     "output_type": "execute_result"
    }
   ],
   "source": [
    "salaries"
   ]
  },
  {
   "cell_type": "code",
   "execution_count": 45,
   "id": "d5f24043-cf42-445d-85aa-d8fd00ea91cc",
   "metadata": {},
   "outputs": [
    {
     "data": {
      "text/plain": [
       "['30k', '35k', '50k', '60k', '55k', '95k', '45k', '55k', '100k', '120k']"
      ]
     },
     "execution_count": 45,
     "metadata": {},
     "output_type": "execute_result"
    }
   ],
   "source": [
    "salaries[::-1]"
   ]
  },
  {
   "cell_type": "code",
   "execution_count": null,
   "id": "685c5899-e219-4c46-a8da-ea8cf92cf975",
   "metadata": {},
   "outputs": [],
   "source": []
  }
 ],
 "metadata": {
  "kernelspec": {
   "display_name": "Python 3 (ipykernel)",
   "language": "python",
   "name": "python3"
  },
  "language_info": {
   "codemirror_mode": {
    "name": "ipython",
    "version": 3
   },
   "file_extension": ".py",
   "mimetype": "text/x-python",
   "name": "python",
   "nbconvert_exporter": "python",
   "pygments_lexer": "ipython3",
   "version": "3.12.7"
  }
 },
 "nbformat": 4,
 "nbformat_minor": 5
}
